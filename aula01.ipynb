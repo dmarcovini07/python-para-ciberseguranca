{
  "nbformat": 4,
  "nbformat_minor": 0,
  "metadata": {
    "colab": {
      "provenance": [],
      "authorship_tag": "ABX9TyOm/L9yli4ZsGD5xIvHEjfx",
      "include_colab_link": true
    },
    "kernelspec": {
      "name": "python3",
      "display_name": "Python 3"
    },
    "language_info": {
      "name": "python"
    }
  },
  "cells": [
    {
      "cell_type": "markdown",
      "metadata": {
        "id": "view-in-github",
        "colab_type": "text"
      },
      "source": [
        "<a href=\"https://colab.research.google.com/github/dmarcovini07/python-para-ciberseguranca/blob/main/aula01.ipynb\" target=\"_parent\"><img src=\"https://colab.research.google.com/assets/colab-badge.svg\" alt=\"Open In Colab\"/></a>"
      ]
    },
    {
      "cell_type": "code",
      "source": [
        "!pip install pyspark"
      ],
      "metadata": {
        "colab": {
          "base_uri": "https://localhost:8080/"
        },
        "id": "g3zOupbPO9g-",
        "outputId": "c3ce91ce-aa2a-418c-fc37-a7c67ee77f1b"
      },
      "execution_count": null,
      "outputs": [
        {
          "output_type": "stream",
          "name": "stdout",
          "text": [
            "Collecting pyspark\n",
            "  Downloading pyspark-3.5.0.tar.gz (316.9 MB)\n",
            "\u001b[2K     \u001b[90m━━━━━━━━━━━━━━━━━━━━━━━━━━━━━━━━━━━━━━━━\u001b[0m \u001b[32m316.9/316.9 MB\u001b[0m \u001b[31m3.0 MB/s\u001b[0m eta \u001b[36m0:00:00\u001b[0m\n",
            "\u001b[?25h  Preparing metadata (setup.py) ... \u001b[?25l\u001b[?25hdone\n",
            "Requirement already satisfied: py4j==0.10.9.7 in /usr/local/lib/python3.10/dist-packages (from pyspark) (0.10.9.7)\n",
            "Building wheels for collected packages: pyspark\n"
          ]
        }
      ]
    },
    {
      "cell_type": "code",
      "source": [
        "# Instalando a biblioteca pyspark\n",
        "from pyspark.sql import SparkSession\n",
        "# Criando uma sessão Spark com o nome \"ColabPySparkTutorial\"\n",
        "\n",
        "spark = SparkSession.builder.appName(\"ColabPySparkTutorial\").getOrCreate()"
      ],
      "metadata": {
        "id": "4WHBTjbQQY8o"
      },
      "execution_count": null,
      "outputs": []
    },
    {
      "cell_type": "code",
      "source": [
        "from pyspark.sql import Row\n",
        "\n",
        "# Criando um dataset fictício de vendas\n",
        "data = [\n",
        "    Row(id=1, product=\"A\", Price=10.1),\n",
        "    Row(id=2, product=\"B\", Price=20.1),\n",
        "    Row(id=3, product=\"A\", Price=30.2),\n",
        "    Row(id=4, product=\"C\", Price=40.3),\n",
        "    Row(id=5, product=\"B\", Price=50.5),\n",
        "]\n",
        "\n",
        "df = spark.createDataFrame(data)\n",
        "df.show()"
      ],
      "metadata": {
        "colab": {
          "base_uri": "https://localhost:8080/"
        },
        "id": "3pKX6fe4RVyK",
        "outputId": "1edf93d1-9454-421c-84a5-5c06680d1d89"
      },
      "execution_count": null,
      "outputs": [
        {
          "output_type": "stream",
          "name": "stdout",
          "text": [
            "+---+-------+-----+\n",
            "| id|product|Price|\n",
            "+---+-------+-----+\n",
            "|  1|      A| 10.1|\n",
            "|  2|      B| 20.1|\n",
            "|  3|      A| 30.2|\n",
            "|  4|      C| 40.3|\n",
            "|  5|      B| 50.5|\n",
            "+---+-------+-----+\n",
            "\n"
          ]
        }
      ]
    },
    {
      "cell_type": "code",
      "source": [
        "df.printSchema()"
      ],
      "metadata": {
        "colab": {
          "base_uri": "https://localhost:8080/"
        },
        "id": "h0mJ5pZJSW_a",
        "outputId": "c2e0d546-86f4-4240-a2ea-143f2ca975e1"
      },
      "execution_count": null,
      "outputs": [
        {
          "output_type": "stream",
          "name": "stdout",
          "text": [
            "root\n",
            " |-- id: long (nullable = true)\n",
            " |-- product: string (nullable = true)\n",
            " |-- Price: double (nullable = true)\n",
            "\n"
          ]
        }
      ]
    },
    {
      "cell_type": "code",
      "source": [
        "conte_a = df. filter(df.product == \"A\").count()\n",
        "print(conte_a)"
      ],
      "metadata": {
        "colab": {
          "base_uri": "https://localhost:8080/"
        },
        "id": "jXCJWTodTd_r",
        "outputId": "5ad3a946-1ecc-48f9-8f4f-90d5f5b3d9fd"
      },
      "execution_count": null,
      "outputs": [
        {
          "output_type": "stream",
          "name": "stdout",
          "text": [
            "2\n"
          ]
        }
      ]
    },
    {
      "cell_type": "code",
      "source": [
        "df.groupBy(\"product\").sum(\"Price\").show()"
      ],
      "metadata": {
        "colab": {
          "base_uri": "https://localhost:8080/"
        },
        "id": "6DLItKJuT0QR",
        "outputId": "becfcb96-f7af-46a9-a9b2-19cbc9c5f13c"
      },
      "execution_count": null,
      "outputs": [
        {
          "output_type": "stream",
          "name": "stdout",
          "text": [
            "+-------+----------+\n",
            "|product|sum(Price)|\n",
            "+-------+----------+\n",
            "|      B|      70.6|\n",
            "|      A|      40.3|\n",
            "|      C|      40.3|\n",
            "+-------+----------+\n",
            "\n"
          ]
        }
      ]
    },
    {
      "cell_type": "code",
      "source": [
        "from pyspark.sql.functions import when, col\n",
        "df_with_discount = df.withColumn(\"discount\", when(col(\"Price\") > 30, 0.9).otherwise(1))\n",
        "df_with_discount.show()"
      ],
      "metadata": {
        "colab": {
          "base_uri": "https://localhost:8080/"
        },
        "id": "VDIFv_hfUieg",
        "outputId": "a25f4b25-2464-4d9c-e884-ac347bcb4783"
      },
      "execution_count": null,
      "outputs": [
        {
          "output_type": "stream",
          "name": "stdout",
          "text": [
            "+---+-------+-----+--------+\n",
            "| id|product|Price|discount|\n",
            "+---+-------+-----+--------+\n",
            "|  1|      A| 10.1|     1.0|\n",
            "|  2|      B| 20.1|     1.0|\n",
            "|  3|      A| 30.2|     0.9|\n",
            "|  4|      C| 40.3|     0.9|\n",
            "|  5|      B| 50.5|     0.9|\n",
            "+---+-------+-----+--------+\n",
            "\n"
          ]
        }
      ]
    },
    {
      "cell_type": "code",
      "source": [
        "df_with_total = df_with_discount.withColumn(\"total\", col(\"Price\") * col(\"discount\"))\n",
        "df_with_total.show()"
      ],
      "metadata": {
        "colab": {
          "base_uri": "https://localhost:8080/"
        },
        "id": "rhJssw4cV1F5",
        "outputId": "36c9c76d-c568-4504-f8e5-3a8966845e46"
      },
      "execution_count": null,
      "outputs": [
        {
          "output_type": "stream",
          "name": "stdout",
          "text": [
            "+---+-------+-----+--------+------------------+\n",
            "| id|product|Price|discount|             total|\n",
            "+---+-------+-----+--------+------------------+\n",
            "|  1|      A| 10.1|     1.0|              10.1|\n",
            "|  2|      B| 20.1|     1.0|              20.1|\n",
            "|  3|      A| 30.2|     0.9|             27.18|\n",
            "|  4|      C| 40.3|     0.9|36.269999999999996|\n",
            "|  5|      B| 50.5|     0.9|             45.45|\n",
            "+---+-------+-----+--------+------------------+\n",
            "\n"
          ]
        }
      ]
    },
    {
      "cell_type": "code",
      "source": [
        "df_sorted = df_with_total.orderBy(col(\"total\").desc())\n",
        "df_sorted.show()"
      ],
      "metadata": {
        "colab": {
          "base_uri": "https://localhost:8080/"
        },
        "id": "5xx1CrhAWxPs",
        "outputId": "97592812-8baf-4eda-e0f2-e3f10c5e0e64"
      },
      "execution_count": null,
      "outputs": [
        {
          "output_type": "stream",
          "name": "stdout",
          "text": [
            "+---+-------+-----+--------+------------------+\n",
            "| id|product|Price|discount|             total|\n",
            "+---+-------+-----+--------+------------------+\n",
            "|  5|      B| 50.5|     0.9|             45.45|\n",
            "|  4|      C| 40.3|     0.9|36.269999999999996|\n",
            "|  3|      A| 30.2|     0.9|             27.18|\n",
            "|  2|      B| 20.1|     1.0|              20.1|\n",
            "|  1|      A| 10.1|     1.0|              10.1|\n",
            "+---+-------+-----+--------+------------------+\n",
            "\n"
          ]
        }
      ]
    },
    {
      "cell_type": "code",
      "source": [
        "df_ab = df_sorted.filter((col(\"product\") == \"A\") | (col(\"product\") == \"B\"))\n",
        "df_ab.show()"
      ],
      "metadata": {
        "colab": {
          "base_uri": "https://localhost:8080/"
        },
        "id": "6KJEWuQUXW5K",
        "outputId": "e37fe644-a878-4e72-db7b-f67e765e2d74"
      },
      "execution_count": null,
      "outputs": [
        {
          "output_type": "stream",
          "name": "stdout",
          "text": [
            "+---+-------+-----+--------+-----+\n",
            "| id|product|Price|discount|total|\n",
            "+---+-------+-----+--------+-----+\n",
            "|  5|      B| 50.5|     0.9|45.45|\n",
            "|  3|      A| 30.2|     0.9|27.18|\n",
            "|  2|      B| 20.1|     1.0| 20.1|\n",
            "|  1|      A| 10.1|     1.0| 10.1|\n",
            "+---+-------+-----+--------+-----+\n",
            "\n"
          ]
        }
      ]
    },
    {
      "cell_type": "code",
      "source": [
        "df.groupBy(\"product\").avg(\"Price\").show()"
      ],
      "metadata": {
        "colab": {
          "base_uri": "https://localhost:8080/"
        },
        "id": "F_WuwHMTYwNR",
        "outputId": "7ec6dec4-c6d8-4c50-94d5-c2e1caa35b5c"
      },
      "execution_count": null,
      "outputs": [
        {
          "output_type": "stream",
          "name": "stdout",
          "text": [
            "+-------+----------+\n",
            "|product|avg(Price)|\n",
            "+-------+----------+\n",
            "|      B|      35.3|\n",
            "|      A|     20.15|\n",
            "|      C|      40.3|\n",
            "+-------+----------+\n",
            "\n"
          ]
        }
      ]
    },
    {
      "cell_type": "code",
      "source": [
        "df_renamed = df.withColumnRenamed(\"product\", \"item\")\n",
        "df_renamed.show()"
      ],
      "metadata": {
        "colab": {
          "base_uri": "https://localhost:8080/"
        },
        "id": "38RxbIcvZBEO",
        "outputId": "273fadd8-c11a-4a48-acce-6931a2ce7402"
      },
      "execution_count": null,
      "outputs": [
        {
          "output_type": "stream",
          "name": "stdout",
          "text": [
            "+---+----+-----+\n",
            "| id|item|Price|\n",
            "+---+----+-----+\n",
            "|  1|   A| 10.1|\n",
            "|  2|   B| 20.1|\n",
            "|  3|   A| 30.2|\n",
            "|  4|   C| 40.3|\n",
            "|  5|   B| 50.5|\n",
            "+---+----+-----+\n",
            "\n"
          ]
        }
      ]
    },
    {
      "cell_type": "code",
      "source": [
        "df_sorted.write.csv(\"sorted_data.csv\")"
      ],
      "metadata": {
        "id": "wMoXRYUBZ70y"
      },
      "execution_count": null,
      "outputs": []
    },
    {
      "cell_type": "code",
      "source": [
        "from pyspark.sql import Row"
      ],
      "metadata": {
        "id": "I0VTYAyjaVqL"
      },
      "execution_count": null,
      "outputs": []
    },
    {
      "cell_type": "code",
      "source": [
        "data = [\n",
        "    Row(id=1, product=\"A\", amount=10, category=\"eletrônicos\"),\n",
        "    Row(id=2, product=\"B\", amount=20, category=\"vestuário\"),\n",
        "    Row(id=3, product=\"A\", amount=30, category=\"eletrônicos\"),\n",
        "    Row(id=4, product=\"C\", amount=40, category=\"alimentos\"),\n",
        "    Row(id=5, product=\"B\", amount=50, category=\"vestuário\")\n",
        "]\n",
        "\n",
        "df = spark.createDataFrame(data)\n",
        "\n",
        "df.show()"
      ],
      "metadata": {
        "colab": {
          "base_uri": "https://localhost:8080/"
        },
        "id": "C829fjacy5fz",
        "outputId": "f5a34dd7-9976-460b-e4d8-1010c7104d6d"
      },
      "execution_count": null,
      "outputs": [
        {
          "output_type": "stream",
          "name": "stdout",
          "text": [
            "+---+-------+------+-----------+\n",
            "| id|product|amount|   category|\n",
            "+---+-------+------+-----------+\n",
            "|  1|      A|    10|eletrônicos|\n",
            "|  2|      B|    20|  vestuário|\n",
            "|  3|      A|    30|eletrônicos|\n",
            "|  4|      C|    40|  alimentos|\n",
            "|  5|      B|    50|  vestuário|\n",
            "+---+-------+------+-----------+\n",
            "\n"
          ]
        }
      ]
    }
  ]
}