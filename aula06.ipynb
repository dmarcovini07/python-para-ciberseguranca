{
  "nbformat": 4,
  "nbformat_minor": 0,
  "metadata": {
    "colab": {
      "provenance": [],
      "toc_visible": true,
      "authorship_tag": "ABX9TyNIMdxRqCZMJ2LreLZ2C/2H",
      "include_colab_link": true
    },
    "kernelspec": {
      "name": "python3",
      "display_name": "Python 3"
    },
    "language_info": {
      "name": "python"
    }
  },
  "cells": [
    {
      "cell_type": "markdown",
      "metadata": {
        "id": "view-in-github",
        "colab_type": "text"
      },
      "source": [
        "<a href=\"https://colab.research.google.com/github/dmarcovini07/python-para-ciberseguranca/blob/main/aula06.ipynb\" target=\"_parent\"><img src=\"https://colab.research.google.com/assets/colab-badge.svg\" alt=\"Open In Colab\"/></a>"
      ]
    },
    {
      "cell_type": "code",
      "source": [
        "import psutil\n",
        "import socket\n",
        "\n",
        "# Coletando informações do TCP e UDP\n",
        "connectall = psutil.net_connections(kind='inet')\n",
        "only_udp = [conn for conn in psutil.net_connections(kind='inet') if conn.type == socket.SOCK_DGRAM]\n",
        "\n",
        "# Separando informações sobre portas TCP\n",
        "only_tcp_listening_ports = [conn.laddr.port for conn in connectall if conn.status == psutil.CONN_LISTEN]\n",
        "\n",
        "# Separando informações do portas UDP\n",
        "only_udp_listening_ports = [conn.laddr.port for conn in only_udp]\n",
        "\n",
        "# Removendo portas repetidas\n",
        "only_tcp_listening_ports = list(set(only_tcp_listening_ports))\n",
        "only_udp_listening_ports = list(set(only_udp_listening_ports))\n",
        "\n",
        "# Ordenando as portas de forma crescente\n",
        "only_tcp_listening_ports.sort()\n",
        "only_udp_listening_ports.sort()\n",
        "\n",
        "# Mostrando as portas TCP\n",
        "for port in only_tcp_listening_ports:\n",
        "  print(f\"porta TCP = {port} aberta\")\n",
        "\n",
        "print(\"\\n\")\n",
        "\n",
        "# Mostrando as portas UDP\n",
        "for port in only_udp_listening_ports:\n",
        "    print(f\"Porta UDP = {port} aberta\")"
      ],
      "metadata": {
        "colab": {
          "base_uri": "https://localhost:8080/"
        },
        "id": "LaOpnfOIWm9J",
        "outputId": "93d0e319-3d53-4588-aa6f-7f7d2314ca9e"
      },
      "execution_count": 8,
      "outputs": [
        {
          "output_type": "stream",
          "name": "stdout",
          "text": [
            "porta TCP = 3453 aberta\n",
            "porta TCP = 6000 aberta\n",
            "porta TCP = 8080 aberta\n",
            "porta TCP = 9000 aberta\n",
            "porta TCP = 36101 aberta\n",
            "porta TCP = 36533 aberta\n",
            "porta TCP = 37647 aberta\n",
            "porta TCP = 39015 aberta\n",
            "\n",
            "\n",
            "Porta UDP = 51930 aberta\n"
          ]
        }
      ]
    }
  ]
}